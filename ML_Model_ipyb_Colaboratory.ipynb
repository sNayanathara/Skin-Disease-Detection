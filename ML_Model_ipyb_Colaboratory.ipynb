{
  "nbformat": 4,
  "nbformat_minor": 0,
  "metadata": {
    "accelerator": "GPU",
    "colab": {
      "name": "ML_Model.ipyb - Colaboratory",
      "provenance": [],
      "collapsed_sections": [],
      "authorship_tag": "ABX9TyNm9gpeYs0Xy3D4Sj5Bvdzw",
      "include_colab_link": true
    },
    "kernelspec": {
      "display_name": "Python 3",
      "name": "python3"
    }
  },
  "cells": [
    {
      "cell_type": "markdown",
      "metadata": {
        "id": "view-in-github",
        "colab_type": "text"
      },
      "source": [
        "<a href=\"https://colab.research.google.com/github/sNayanathara/Skin-Disease-Detection/blob/main/ML_Model_ipyb_Colaboratory.ipynb\" target=\"_parent\"><img src=\"https://colab.research.google.com/assets/colab-badge.svg\" alt=\"Open In Colab\"/></a>"
      ]
    },
    {
      "cell_type": "code",
      "metadata": {
        "id": "4roQ6BlgMbgv"
      },
      "source": [
        "from tensorflow.keras.preprocessing.image import ImageDataGenerator\n",
        "from tensorflow.keras.preprocessing import image\n",
        "from tensorflow.keras.optimizers import RMSprop\n",
        "from random import shuffle\n",
        "from tqdm import tqdm\n",
        "import matplotlib.pyplot as plt\n",
        "%matplotlib inline\n",
        "# Importing drive method from colab for accessing google drive\n",
        "from google.colab import drive\n",
        "import tensorflow as tf\n",
        "import numpy as np\n",
        "import cv2\n",
        "import os"
      ],
      "execution_count": null,
      "outputs": []
    },
    {
      "cell_type": "code",
      "metadata": {
        "colab": {
          "base_uri": "https://localhost:8080/"
        },
        "id": "NDIX811SNiLL",
        "outputId": "d4712ce0-3603-40c4-a2c9-abe1b8590f53"
      },
      "source": [
        "##### Creating the training and testing datasets #####\n",
        "\n",
        "# Mounting drive\n",
        "drive.mount('/content/drive',force_remount=True)"
      ],
      "execution_count": null,
      "outputs": [
        {
          "output_type": "stream",
          "text": [
            "Mounted at /content/drive\n"
          ],
          "name": "stdout"
        }
      ]
    },
    {
      "cell_type": "code",
      "metadata": {
        "colab": {
          "base_uri": "https://localhost:8080/",
          "height": 1000
        },
        "id": "jg9dJDjeVXzI",
        "outputId": "b39d01b1-530c-4850-bbf3-0f1adf8d3cee"
      },
      "source": [
        "#main folder with images\n",
        "main_path = \"/content/drive/My Drive/ML_Project_Images/All_Images/\"\n",
        "\n",
        "#temporarily stores training images and their corresponding class index \n",
        "train_set = []\n",
        "\n",
        "#training and testing images\n",
        "X_train_images = []\n",
        "X_test_images = []\n",
        "\n",
        "#training and testing labels\n",
        "y_train = []\n",
        "y_test = []\n",
        "\n",
        "#gives each class an index\n",
        "categorical_num = 0\n",
        "#walk through all the folders in the main folder and directing the images into training and testing arrays\n",
        "for root, dirs, files in os.walk(main_path): \n",
        "  \n",
        "  if(os.path.basename(root)!= os.path.basename(main_path)):   #to prevent the main folder being allocated by a class index \n",
        "\n",
        "    count = 1    #to keep track of the number of images been walked through in each subfolder \n",
        "    \n",
        "   \n",
        "    label = os.path.basename(root)   #label of the image--name of the subfolder\n",
        "    print(\"------------\",categorical_num)\n",
        "    print(\"--------------\",label)\n",
        "    print(\"--------------\",len(files))\n",
        "    test_set_size = int(len(files) * 0.1)  #append 20% of the tootal images in each subfolder to the testing array\n",
        "\n",
        "    for i in tqdm(os.listdir(root)):  #loop through the images \n",
        "      path = os.path.join(root, i)\n",
        "      img = cv2.imread(path)\n",
        "      img = cv2.resize(img, (128,128))\n",
        "      plt.imshow(img)\n",
        "      img = np.array(img, dtype=\"float\")/255.0\n",
        "      if count <= test_set_size:\n",
        "        X_test_images.append(img)\n",
        "        y_test.append(categorical_num)\n",
        "      else:  \n",
        "        # X_train_images.append(img)\n",
        "        # y_train.append(categorical_num)\n",
        "        train_set.append([img,categorical_num]) #first save training data to a temporary array as they have to be shuffled\n",
        "\n",
        "      count = count + 1\n",
        "    categorical_num = categorical_num + 1\n",
        "  else:\n",
        "    categorical_num = categorical_num   #if the name of the folder is equal to the main folder do not update the class index\n",
        "\n",
        "\n",
        "#shuffle the training data\n",
        "shuffle(train_set) \n",
        "\n",
        "#seperating the training data into images and labels\n",
        "X_train_images = np.array([i[0] for i in train_set]).reshape(-1,128,128,3)\n",
        "y_train = np.array([i[1] for i in train_set])\n",
        "\n",
        "X_test_images = np.array([X_test_images]).reshape(-1,128,128,3)\n",
        "\n",
        "\n",
        "################Convert labels to one hot ##################\n",
        "from keras.utils import np_utils\n",
        "\n",
        "NB_CLASSES = 24                      # (number of classes)\n",
        "\n",
        "y_train_one_hot = np_utils.to_categorical(y_train, NB_CLASSES) \n",
        "y_test_one_hot  = np_utils.to_categorical(y_test, NB_CLASSES)\n",
        "\n",
        "print (\"Dimension of y_train_one_hot = \", y_train_one_hot.shape)\n",
        "print (\"Dimension of y_test_one_hot  = \", y_test_one_hot.shape)\n",
        "print('Train: X=' ,X_train_images.shape)\n",
        "print('Test: X=' ,X_test_images.shape)\n",
        "print( y_train[0], \"=>\", y_train_one_hot[0])\n",
        "print (y_test[0],  \"=>\", y_test_one_hot[0])\n",
        "# plt.imshow(X_train_images[0])\n"
      ],
      "execution_count": null,
      "outputs": [
        {
          "output_type": "stream",
          "text": [
            "\r  0%|          | 0/52 [00:00<?, ?it/s]"
          ],
          "name": "stderr"
        },
        {
          "output_type": "stream",
          "text": [
            "------------ 0\n",
            "-------------- Rosacea\n",
            "-------------- 52\n"
          ],
          "name": "stdout"
        },
        {
          "output_type": "stream",
          "text": [
            "100%|██████████| 52/52 [00:19<00:00,  2.68it/s]\n",
            "  0%|          | 0/342 [00:00<?, ?it/s]"
          ],
          "name": "stderr"
        },
        {
          "output_type": "stream",
          "text": [
            "------------ 1\n",
            "-------------- Psoriasis\n",
            "-------------- 342\n"
          ],
          "name": "stdout"
        },
        {
          "output_type": "stream",
          "text": [
            "100%|██████████| 342/342 [01:48<00:00,  3.15it/s]\n",
            "  0%|          | 0/194 [00:00<?, ?it/s]"
          ],
          "name": "stderr"
        },
        {
          "output_type": "stream",
          "text": [
            "------------ 2\n",
            "-------------- Erythema\n",
            "-------------- 194\n"
          ],
          "name": "stdout"
        },
        {
          "output_type": "stream",
          "text": [
            "100%|██████████| 194/194 [00:50<00:00,  3.82it/s]\n",
            "  0%|          | 0/168 [00:00<?, ?it/s]"
          ],
          "name": "stderr"
        },
        {
          "output_type": "stream",
          "text": [
            "------------ 3\n",
            "-------------- Herpes\n",
            "-------------- 168\n"
          ],
          "name": "stdout"
        },
        {
          "output_type": "stream",
          "text": [
            "100%|██████████| 168/168 [00:45<00:00,  3.73it/s]\n",
            "  0%|          | 0/58 [00:00<?, ?it/s]"
          ],
          "name": "stderr"
        },
        {
          "output_type": "stream",
          "text": [
            "------------ 4\n",
            "-------------- Pustular Psoriasis\n",
            "-------------- 58\n"
          ],
          "name": "stdout"
        },
        {
          "output_type": "stream",
          "text": [
            "100%|██████████| 58/58 [00:19<00:00,  2.98it/s]\n",
            "  0%|          | 0/22 [00:00<?, ?it/s]"
          ],
          "name": "stderr"
        },
        {
          "output_type": "stream",
          "text": [
            "------------ 5\n",
            "-------------- InsectBites\n",
            "-------------- 22\n"
          ],
          "name": "stdout"
        },
        {
          "output_type": "stream",
          "text": [
            "100%|██████████| 22/22 [00:05<00:00,  4.02it/s]\n",
            "  0%|          | 0/256 [00:00<?, ?it/s]"
          ],
          "name": "stderr"
        },
        {
          "output_type": "stream",
          "text": [
            "------------ 6\n",
            "-------------- Allergic Contact Dermatitis\n",
            "-------------- 256\n"
          ],
          "name": "stdout"
        },
        {
          "output_type": "stream",
          "text": [
            "100%|██████████| 256/256 [01:29<00:00,  2.87it/s]\n",
            "  0%|          | 0/82 [00:00<?, ?it/s]"
          ],
          "name": "stderr"
        },
        {
          "output_type": "stream",
          "text": [
            "------------ 7\n",
            "-------------- Drug Erruption\n",
            "-------------- 82\n"
          ],
          "name": "stdout"
        },
        {
          "output_type": "stream",
          "text": [
            "100%|██████████| 82/82 [00:24<00:00,  3.31it/s]\n",
            "  0%|          | 0/310 [00:00<?, ?it/s]"
          ],
          "name": "stderr"
        },
        {
          "output_type": "stream",
          "text": [
            "------------ 8\n",
            "-------------- Atopic dermatitis\n",
            "-------------- 310\n"
          ],
          "name": "stdout"
        },
        {
          "output_type": "stream",
          "text": [
            "100%|██████████| 310/310 [01:27<00:00,  3.53it/s]\n",
            "  2%|▏         | 1/60 [00:00<00:10,  5.80it/s]"
          ],
          "name": "stderr"
        },
        {
          "output_type": "stream",
          "text": [
            "------------ 9\n",
            "-------------- Alopecia\n",
            "-------------- 60\n"
          ],
          "name": "stdout"
        },
        {
          "output_type": "stream",
          "text": [
            "100%|██████████| 60/60 [00:15<00:00,  3.83it/s]\n",
            "  1%|          | 1/142 [00:00<00:23,  5.90it/s]"
          ],
          "name": "stderr"
        },
        {
          "output_type": "stream",
          "text": [
            "------------ 10\n",
            "-------------- Acrodermatitis Enteropathica\n",
            "-------------- 142\n"
          ],
          "name": "stdout"
        },
        {
          "output_type": "stream",
          "text": [
            "100%|██████████| 142/142 [00:37<00:00,  3.79it/s]\n",
            "  0%|          | 0/290 [00:00<?, ?it/s]"
          ],
          "name": "stderr"
        },
        {
          "output_type": "stream",
          "text": [
            "------------ 11\n",
            "-------------- Basal Cell Carcinoma\n",
            "-------------- 290\n"
          ],
          "name": "stdout"
        },
        {
          "output_type": "stream",
          "text": [
            "100%|██████████| 290/290 [01:19<00:00,  3.66it/s]\n",
            "  0%|          | 0/78 [00:00<?, ?it/s]"
          ],
          "name": "stderr"
        },
        {
          "output_type": "stream",
          "text": [
            "------------ 12\n",
            "-------------- Granuloma Annulare\n",
            "-------------- 78\n"
          ],
          "name": "stdout"
        },
        {
          "output_type": "stream",
          "text": [
            "100%|██████████| 78/78 [00:22<00:00,  3.54it/s]\n",
            "  0%|          | 0/58 [00:00<?, ?it/s]"
          ],
          "name": "stderr"
        },
        {
          "output_type": "stream",
          "text": [
            "------------ 13\n",
            "-------------- Lentigo Maligna\n",
            "-------------- 58\n"
          ],
          "name": "stdout"
        },
        {
          "output_type": "stream",
          "text": [
            "100%|██████████| 58/58 [00:19<00:00,  3.03it/s]\n",
            "  0%|          | 0/356 [00:00<?, ?it/s]"
          ],
          "name": "stderr"
        },
        {
          "output_type": "stream",
          "text": [
            "------------ 14\n",
            "-------------- Lichen Planus\n",
            "-------------- 356\n"
          ],
          "name": "stdout"
        },
        {
          "output_type": "stream",
          "text": [
            "100%|██████████| 356/356 [01:46<00:00,  3.34it/s]\n",
            "  0%|          | 0/520 [00:00<?, ?it/s]"
          ],
          "name": "stderr"
        },
        {
          "output_type": "stream",
          "text": [
            "------------ 15\n",
            "-------------- Acne\n",
            "-------------- 520\n"
          ],
          "name": "stdout"
        },
        {
          "output_type": "stream",
          "text": [
            "100%|██████████| 520/520 [01:49<00:00,  4.75it/s]\n",
            "  0%|          | 0/147 [00:00<?, ?it/s]"
          ],
          "name": "stderr"
        },
        {
          "output_type": "stream",
          "text": [
            "------------ 16\n",
            "-------------- Bullous Disease\n",
            "-------------- 147\n"
          ],
          "name": "stdout"
        },
        {
          "output_type": "stream",
          "text": [
            "100%|██████████| 147/147 [00:40<00:00,  3.61it/s]\n",
            "  0%|          | 0/58 [00:00<?, ?it/s]"
          ],
          "name": "stderr"
        },
        {
          "output_type": "stream",
          "text": [
            "------------ 17\n",
            "-------------- Irritant Contact Dermatitis\n",
            "-------------- 58\n"
          ],
          "name": "stdout"
        },
        {
          "output_type": "stream",
          "text": [
            "100%|██████████| 58/58 [00:15<00:00,  3.69it/s]\n",
            "  0%|          | 0/75 [00:00<?, ?it/s]"
          ],
          "name": "stderr"
        },
        {
          "output_type": "stream",
          "text": [
            "------------ 18\n",
            "-------------- Candidiasis\n",
            "-------------- 75\n"
          ],
          "name": "stdout"
        },
        {
          "output_type": "stream",
          "text": [
            "100%|██████████| 75/75 [00:18<00:00,  4.01it/s]\n",
            "  0%|          | 0/70 [00:00<?, ?it/s]"
          ],
          "name": "stderr"
        },
        {
          "output_type": "stream",
          "text": [
            "------------ 19\n",
            "-------------- Dermatomyositis\n",
            "-------------- 70\n"
          ],
          "name": "stdout"
        },
        {
          "output_type": "stream",
          "text": [
            "100%|██████████| 70/70 [00:18<00:00,  3.73it/s]\n",
            "  1%|          | 1/90 [00:00<00:11,  7.52it/s]"
          ],
          "name": "stderr"
        },
        {
          "output_type": "stream",
          "text": [
            "------------ 20\n",
            "-------------- Epidermolysis Bullosa\n",
            "-------------- 90\n"
          ],
          "name": "stdout"
        },
        {
          "output_type": "stream",
          "text": [
            "100%|██████████| 90/90 [00:23<00:00,  3.83it/s]\n",
            "  3%|▎         | 1/32 [00:00<00:04,  6.57it/s]"
          ],
          "name": "stderr"
        },
        {
          "output_type": "stream",
          "text": [
            "------------ 21\n",
            "-------------- Keratoacanthoma\n",
            "-------------- 32\n"
          ],
          "name": "stdout"
        },
        {
          "output_type": "stream",
          "text": [
            "100%|██████████| 32/32 [00:08<00:00,  3.67it/s]\n",
            "  0%|          | 0/634 [00:00<?, ?it/s]"
          ],
          "name": "stderr"
        },
        {
          "output_type": "stream",
          "text": [
            "------------ 22\n",
            "-------------- Leprosy\n",
            "-------------- 634\n"
          ],
          "name": "stdout"
        },
        {
          "output_type": "stream",
          "text": [
            "100%|██████████| 634/634 [02:35<00:00,  4.07it/s]\n",
            "  0%|          | 0/194 [00:00<?, ?it/s]"
          ],
          "name": "stderr"
        },
        {
          "output_type": "stream",
          "text": [
            "------------ 23\n",
            "-------------- Lupus Erythematosus\n",
            "-------------- 194\n"
          ],
          "name": "stdout"
        },
        {
          "output_type": "stream",
          "text": [
            "100%|██████████| 194/194 [00:44<00:00,  4.35it/s]\n"
          ],
          "name": "stderr"
        },
        {
          "output_type": "stream",
          "text": [
            "Dimension of y_train_one_hot =  (3868, 24)\n",
            "Dimension of y_test_one_hot  =  (420, 24)\n",
            "Train: X= (3868, 128, 128, 3)\n",
            "Test: X= (420, 128, 128, 3)\n",
            "14 => [0. 0. 0. 0. 0. 0. 0. 0. 0. 0. 0. 0. 0. 0. 1. 0. 0. 0. 0. 0. 0. 0. 0. 0.]\n",
            "0 => [1. 0. 0. 0. 0. 0. 0. 0. 0. 0. 0. 0. 0. 0. 0. 0. 0. 0. 0. 0. 0. 0. 0. 0.]\n"
          ],
          "name": "stdout"
        },
        {
          "output_type": "display_data",
          "data": {
            "image/png": "[encoded data removed]",
            "text/plain": [
              "<Figure size 432x288 with 1 Axes>"
            ]
          },
          "metadata": {
            "tags": [],
            "needs_background": "light"
          }
        }
      ]
    },
    {
      "cell_type": "code",
      "metadata": {
        "id": "VCBW6Me2sKXq"
      },
      "source": [
        "# #main folder with images\n",
        "# main_path = \"/content/drive/My Drive/ML_Project_Images/All_Images/\""
      ],
      "execution_count": null,
      "outputs": []
    },
    {
      "cell_type": "code",
      "metadata": {
        "id": "N_1E6AEhWGKg"
      },
      "source": [
        "# def prep_training_testing_datasets():\n",
        "#   #temporarily stores training images and their corresponding class index \n",
        "#   train_set = []\n",
        "\n",
        "#   #training and testing images\n",
        "#   # X_train_images = []\n",
        "#   X_test_images = []\n",
        "\n",
        "#   #training and testing labels\n",
        "#   # y_train = []\n",
        "#   y_test = []\n",
        "\n",
        "#   #gives each class an index\n",
        "#   categorical_num = 0\n",
        "\n",
        "#   #walk through all the folders in the main folder and directing the images into training and testing arrays\n",
        "#   for root, dirs, files in os.walk(main_path): \n",
        "\n",
        "#       if(os.path.basename(root)!= os.path.basename(main_path)):  #to prevent the main folder being allocated by a class index \n",
        "\n",
        "#         count = 1    #to keep track of the number of images been walked through in each subfolder \n",
        "    \n",
        "   \n",
        "#         label = os.path.basename(root)   #label of the image--name of the subfolder\n",
        "#         # print(\"------------\",categorical_num)\n",
        "#         # print(\"--------------\",label)\n",
        "#         # print(\"--------------\",len(files))\n",
        "#         test_set_size = int(len(files) * 0.2)  #append 20% of the tootal images in each subfolder to the testing array\n",
        "\n",
        "#         for i in tqdm(os.listdir(root)):  #loop through the images \n",
        "\n",
        "#           path = os.path.join(root, i)\n",
        "#           img = cv2.imread(path)\n",
        "#           img = cv2.resize(img, (128,128))\n",
        "#           plt.imshow(img)\n",
        "#           img = np.array(img, dtype=\"float\")/255.0\n",
        "\n",
        "#           if count <= test_set_size: \n",
        "#             X_test_images.append(img)\n",
        "#             y_test.append(categorical_num)  \n",
        "#           else:  \n",
        "#             # X_train_images.append(img)\n",
        "#             # y_train.append(categorical_num)\n",
        "#             train_set.append([img,categorical_num]) #first save training data to a temporary array as they have to be shuffled \n",
        "\n",
        "#           count = count + 1\n",
        "#         categorical_num = categorical_num + 1\n",
        "#       else:\n",
        "#         categorical_num = categorical_num   #if the name of the folder is equal to the main folder do not update the class index   \n",
        "\n",
        "#       return X_test_images,y_test,train_set "
      ],
      "execution_count": null,
      "outputs": []
    },
    {
      "cell_type": "code",
      "metadata": {
        "id": "NYOF5wbSvcvW"
      },
      "source": [
        "# X_test_images,y_test,train_set = prep_training_testing_datasets()\n",
        "# # print('Train: X=' ,X_test_images.shape)\n",
        "# # print('Test: X=' ,y_test.shape)\n",
        "\n",
        "# #shuffle the training data\n",
        "# shuffle(train_set) "
      ],
      "execution_count": null,
      "outputs": []
    },
    {
      "cell_type": "code",
      "metadata": {
        "id": "GUDiYcAFvkhJ"
      },
      "source": [
        "# #seperating the training data into images and labels\n",
        "# X_train_images = np.array([i[0] for i in train_set]).reshape(-1,128,128,3)\n",
        "# y_train = np.array([i[1] for i in train_set])\n",
        "\n",
        "# X_test_images = np.array([X_test_images]).reshape(-1,128,128,3)"
      ],
      "execution_count": null,
      "outputs": []
    },
    {
      "cell_type": "code",
      "metadata": {
        "id": "MxQ4oRimvxoR"
      },
      "source": [
        "################Convert labels to one hot ##################\n",
        "# from keras.utils import np_utils\n",
        "\n",
        "# NB_CLASSES = 24                      # (number of classes)\n",
        "\n",
        "# y_train_one_hot = np_utils.to_categorical(y_train, NB_CLASSES) \n",
        "# y_test_one_hot  = np_utils.to_categorical(y_test, NB_CLASSES)\n",
        "\n",
        "# print (\"Dimension of y_train_one_hot = \", y_train_one_hot.shape)\n",
        "# print (\"Dimension of y_test_one_hot  = \", y_test_one_hot.shape)\n",
        "# print('Train: X=' ,X_train_images.shape)\n",
        "# print('Test: X=' ,X_test_images.shape)\n",
        "# print( y_train[0], \"=>\", y_train_one_hot[0])\n",
        "# print (y_test[0],  \"=>\", y_test_one_hot[0])\n",
        "# # plt.imshow(X_train_images[0])\n"
      ],
      "execution_count": null,
      "outputs": []
    },
    {
      "cell_type": "code",
      "metadata": {
        "id": "qMQRjpTxcUGW"
      },
      "source": [
        "#create the model\n",
        "from keras.models import Sequential\n",
        "from keras.layers import Convolution2D\n",
        "from keras.layers import MaxPooling2D\n",
        "from keras.layers import Flatten\n",
        "from keras.layers import Dropout\n",
        "from keras.layers import Dense\n",
        "from keras.layers import *\n",
        "from keras.optimizers import SGD\n",
        "from keras.utils.np_utils import to_categorical"
      ],
      "execution_count": null,
      "outputs": []
    },
    {
      "cell_type": "code",
      "metadata": {
        "id": "gBV_I7jmcVZO"
      },
      "source": [
        "#declare and initialize our sequential model\n",
        "model = Sequential()"
      ],
      "execution_count": null,
      "outputs": []
    },
    {
      "cell_type": "code",
      "metadata": {
        "id": "kClf3xoWceMe"
      },
      "source": [
        "#Convolutional input layer,32 feature maps with a size of 3x3 and a relu function \n",
        "model.add(InputLayer(input_shape = [128,128,3]))"
      ],
      "execution_count": null,
      "outputs": []
    },
    {
      "cell_type": "code",
      "metadata": {
        "id": "xO9H7a6gch1i"
      },
      "source": [
        "#first convolutional layer\n",
        "model.add(Conv2D(filters=32,kernel_size=5,strides=1,padding='same',activation='relu'))\n",
        "model.add(MaxPool2D(pool_size=5,padding='same'))"
      ],
      "execution_count": null,
      "outputs": []
    },
    {
      "cell_type": "code",
      "metadata": {
        "id": "BBUaGu6gcoYG"
      },
      "source": [
        "#second convolutional layer\n",
        "model.add(Conv2D(filters=64,kernel_size=5,strides=1,padding='same',activation='relu'))\n",
        "model.add(MaxPool2D(pool_size=5,padding='same'))"
      ],
      "execution_count": null,
      "outputs": []
    },
    {
      "cell_type": "code",
      "metadata": {
        "id": "Wk4RocuCcpOg"
      },
      "source": [
        "#third convolutional layer\n",
        "model.add(Conv2D(filters=128,kernel_size=5,strides=1,padding='same',activation='relu'))\n",
        "model.add(MaxPool2D(pool_size=5,padding='same'))"
      ],
      "execution_count": null,
      "outputs": []
    },
    {
      "cell_type": "code",
      "metadata": {
        "id": "N_SL7NF53eu3"
      },
      "source": [
        "#third convolutional layer\n",
        "model.add(Conv2D(filters=256,kernel_size=5,strides=1,padding='same',activation='relu'))\n",
        "model.add(MaxPool2D(pool_size=5,padding='same'))"
      ],
      "execution_count": null,
      "outputs": []
    },
    {
      "cell_type": "code",
      "metadata": {
        "id": "SOSMsSdVcspd"
      },
      "source": [
        "#Dropout layer\n",
        "model.add(Dropout(0.25))\n",
        "model.add(Flatten())\n",
        "model.add(Dense(512,activation='relu'))\n",
        "model.add(Dropout(rate=0.5))\n",
        "model.add(Dense(24,activation='softmax'))\n",
        "optimizer=SGD(lr=0.1)\n",
        "model.compile(optimizer=optimizer, loss='categorical_crossentropy', metrics=['accuracy'])"
      ],
      "execution_count": null,
      "outputs": []
    },
    {
      "cell_type": "code",
      "metadata": {
        "id": "Pu3iP4S5cwI5"
      },
      "source": [
        "from keras.preprocessing.image import ImageDataGenerator\n",
        "\n",
        " #aug = ImageDataGenerator()\n",
        "\n",
        "\n",
        "datagen = ImageDataGenerator(\n",
        "     rotation_range=20,\n",
        "     zoom_range=0.15,\n",
        "     width_shift_range=0.2,\n",
        "     height_shift_range=0.2,\n",
        "     shear_range=0.15,\n",
        "     horizontal_flip=True,\n",
        "     fill_mode=\"nearest\")"
      ],
      "execution_count": null,
      "outputs": []
    },
    {
      "cell_type": "code",
      "metadata": {
        "colab": {
          "base_uri": "https://localhost:8080/"
        },
        "id": "lht7OPKqc3E6",
        "outputId": "5dcdd363-3119-478d-8bbe-258ab4a0397f"
      },
      "source": [
        "#Fitting the model\n",
        "# model.fit(x=X_train,y=y_train,epochs=50,batch_size=20)\n",
        "# model.summary()\n",
        "model_his=model.fit(x=datagen.flow(X_train_images,y_train_one_hot,batch_size=10),\n",
        "          validation_data=(X_test_images,y_test_one_hot),\n",
        "          # steps_per_epoch=len(X_train),\n",
        "          epochs=50)\n",
        "model.summary()"
      ],
      "execution_count": null,
      "outputs": [
        {
          "output_type": "stream",
          "text": [
            "Epoch 1/50\n",
            "387/387 [==============================] - 48s 38ms/step - loss: 2.9538 - accuracy: 0.1254 - val_loss: 2.8486 - val_accuracy: 0.1500\n",
            "Epoch 2/50\n",
            "387/387 [==============================] - 14s 36ms/step - loss: 2.8473 - accuracy: 0.1511 - val_loss: 2.9325 - val_accuracy: 0.1357\n",
            "Epoch 3/50\n",
            "387/387 [==============================] - 14s 36ms/step - loss: 2.8062 - accuracy: 0.1702 - val_loss: 2.7879 - val_accuracy: 0.1714\n",
            "Epoch 4/50\n",
            "387/387 [==============================] - 14s 36ms/step - loss: 2.7595 - accuracy: 0.1727 - val_loss: 2.9028 - val_accuracy: 0.1952\n",
            "Epoch 5/50\n",
            "387/387 [==============================] - 14s 36ms/step - loss: 2.7354 - accuracy: 0.1976 - val_loss: 2.8754 - val_accuracy: 0.1595\n",
            "Epoch 6/50\n",
            "387/387 [==============================] - 14s 36ms/step - loss: 2.7088 - accuracy: 0.1991 - val_loss: 2.7860 - val_accuracy: 0.1976\n",
            "Epoch 7/50\n",
            "387/387 [==============================] - 14s 37ms/step - loss: 2.6715 - accuracy: 0.2046 - val_loss: 2.8017 - val_accuracy: 0.1929\n",
            "Epoch 8/50\n",
            "387/387 [==============================] - 14s 36ms/step - loss: 2.6764 - accuracy: 0.1975 - val_loss: 2.7709 - val_accuracy: 0.1857\n",
            "Epoch 9/50\n",
            "387/387 [==============================] - 14s 37ms/step - loss: 2.6478 - accuracy: 0.2222 - val_loss: 2.8145 - val_accuracy: 0.2238\n",
            "Epoch 10/50\n",
            "387/387 [==============================] - 14s 37ms/step - loss: 2.6735 - accuracy: 0.2044 - val_loss: 2.8234 - val_accuracy: 0.2238\n",
            "Epoch 11/50\n",
            "387/387 [==============================] - 14s 37ms/step - loss: 2.6205 - accuracy: 0.2142 - val_loss: 2.8017 - val_accuracy: 0.2167\n",
            "Epoch 12/50\n",
            "387/387 [==============================] - 14s 37ms/step - loss: 2.6138 - accuracy: 0.2203 - val_loss: 2.8806 - val_accuracy: 0.1667\n",
            "Epoch 13/50\n",
            "387/387 [==============================] - 14s 37ms/step - loss: 2.6288 - accuracy: 0.2025 - val_loss: 2.7261 - val_accuracy: 0.2000\n",
            "Epoch 14/50\n",
            "387/387 [==============================] - 14s 36ms/step - loss: 2.6185 - accuracy: 0.2322 - val_loss: 2.8429 - val_accuracy: 0.2024\n",
            "Epoch 15/50\n",
            "387/387 [==============================] - 14s 36ms/step - loss: 2.5799 - accuracy: 0.2455 - val_loss: 2.8375 - val_accuracy: 0.2000\n",
            "Epoch 16/50\n",
            "387/387 [==============================] - 14s 36ms/step - loss: 2.5577 - accuracy: 0.2439 - val_loss: 2.7707 - val_accuracy: 0.1881\n",
            "Epoch 17/50\n",
            "387/387 [==============================] - 14s 36ms/step - loss: 2.5715 - accuracy: 0.2325 - val_loss: 2.8356 - val_accuracy: 0.2167\n",
            "Epoch 18/50\n",
            "387/387 [==============================] - 14s 36ms/step - loss: 2.5633 - accuracy: 0.2590 - val_loss: 2.9420 - val_accuracy: 0.1833\n",
            "Epoch 19/50\n",
            "387/387 [==============================] - 14s 37ms/step - loss: 2.5673 - accuracy: 0.2367 - val_loss: 2.8361 - val_accuracy: 0.2524\n",
            "Epoch 20/50\n",
            "387/387 [==============================] - 14s 36ms/step - loss: 2.5353 - accuracy: 0.2550 - val_loss: 2.7705 - val_accuracy: 0.2167\n",
            "Epoch 21/50\n",
            "387/387 [==============================] - 14s 36ms/step - loss: 2.5528 - accuracy: 0.2378 - val_loss: 2.8317 - val_accuracy: 0.2381\n",
            "Epoch 22/50\n",
            "387/387 [==============================] - 14s 36ms/step - loss: 2.5196 - accuracy: 0.2565 - val_loss: 2.7641 - val_accuracy: 0.2238\n",
            "Epoch 23/50\n",
            "387/387 [==============================] - 14s 36ms/step - loss: 2.5157 - accuracy: 0.2382 - val_loss: 2.7953 - val_accuracy: 0.2143\n",
            "Epoch 24/50\n",
            "387/387 [==============================] - 14s 37ms/step - loss: 2.5247 - accuracy: 0.2453 - val_loss: 2.7998 - val_accuracy: 0.2286\n",
            "Epoch 25/50\n",
            "387/387 [==============================] - 14s 37ms/step - loss: 2.5097 - accuracy: 0.2577 - val_loss: 2.7231 - val_accuracy: 0.2619\n",
            "Epoch 26/50\n",
            "387/387 [==============================] - 14s 37ms/step - loss: 2.5009 - accuracy: 0.2638 - val_loss: 2.8465 - val_accuracy: 0.2238\n",
            "Epoch 27/50\n",
            "387/387 [==============================] - 14s 37ms/step - loss: 2.4838 - accuracy: 0.2619 - val_loss: 2.9014 - val_accuracy: 0.2167\n",
            "Epoch 28/50\n",
            "387/387 [==============================] - 14s 37ms/step - loss: 2.5007 - accuracy: 0.2662 - val_loss: 2.8429 - val_accuracy: 0.2071\n",
            "Epoch 29/50\n",
            "387/387 [==============================] - 14s 37ms/step - loss: 2.4917 - accuracy: 0.2636 - val_loss: 2.9027 - val_accuracy: 0.2190\n",
            "Epoch 30/50\n",
            "387/387 [==============================] - 14s 37ms/step - loss: 2.4839 - accuracy: 0.2601 - val_loss: 2.9786 - val_accuracy: 0.2119\n",
            "Epoch 31/50\n",
            "387/387 [==============================] - 14s 37ms/step - loss: 2.4748 - accuracy: 0.2690 - val_loss: 2.9398 - val_accuracy: 0.2286\n",
            "Epoch 32/50\n",
            "387/387 [==============================] - 14s 37ms/step - loss: 2.4472 - accuracy: 0.2775 - val_loss: 2.8529 - val_accuracy: 0.2619\n",
            "Epoch 33/50\n",
            "387/387 [==============================] - 14s 37ms/step - loss: 2.4445 - accuracy: 0.2734 - val_loss: 2.7760 - val_accuracy: 0.2095\n",
            "Epoch 34/50\n",
            "387/387 [==============================] - 14s 37ms/step - loss: 2.4656 - accuracy: 0.2699 - val_loss: 2.7603 - val_accuracy: 0.2310\n",
            "Epoch 35/50\n",
            "387/387 [==============================] - 14s 37ms/step - loss: 2.4761 - accuracy: 0.2686 - val_loss: 2.8208 - val_accuracy: 0.2452\n",
            "Epoch 36/50\n",
            "387/387 [==============================] - 14s 37ms/step - loss: 2.4765 - accuracy: 0.2673 - val_loss: 2.7876 - val_accuracy: 0.2310\n",
            "Epoch 37/50\n",
            "387/387 [==============================] - 14s 37ms/step - loss: 2.4215 - accuracy: 0.2962 - val_loss: 2.7644 - val_accuracy: 0.2238\n",
            "Epoch 38/50\n",
            "387/387 [==============================] - 14s 37ms/step - loss: 2.4333 - accuracy: 0.2832 - val_loss: 2.9575 - val_accuracy: 0.2095\n",
            "Epoch 39/50\n",
            "387/387 [==============================] - 14s 37ms/step - loss: 2.4427 - accuracy: 0.2667 - val_loss: 2.9270 - val_accuracy: 0.2071\n",
            "Epoch 40/50\n",
            "387/387 [==============================] - 14s 37ms/step - loss: 2.4603 - accuracy: 0.2707 - val_loss: 2.7962 - val_accuracy: 0.2500\n",
            "Epoch 41/50\n",
            "387/387 [==============================] - 14s 37ms/step - loss: 2.4181 - accuracy: 0.3010 - val_loss: 2.7578 - val_accuracy: 0.2048\n",
            "Epoch 42/50\n",
            "387/387 [==============================] - 14s 37ms/step - loss: 2.4357 - accuracy: 0.2797 - val_loss: 2.7131 - val_accuracy: 0.2286\n",
            "Epoch 43/50\n",
            "387/387 [==============================] - 14s 37ms/step - loss: 2.4259 - accuracy: 0.2884 - val_loss: 2.8051 - val_accuracy: 0.2238\n",
            "Epoch 44/50\n",
            "387/387 [==============================] - 14s 37ms/step - loss: 2.4199 - accuracy: 0.3005 - val_loss: 2.7584 - val_accuracy: 0.2214\n",
            "Epoch 45/50\n",
            "387/387 [==============================] - 14s 37ms/step - loss: 2.4362 - accuracy: 0.2793 - val_loss: 2.7609 - val_accuracy: 0.2167\n",
            "Epoch 46/50\n",
            "387/387 [==============================] - 14s 37ms/step - loss: 2.4249 - accuracy: 0.2858 - val_loss: 2.8183 - val_accuracy: 0.2048\n",
            "Epoch 47/50\n",
            "387/387 [==============================] - 14s 37ms/step - loss: 2.5447 - accuracy: 0.2603 - val_loss: 2.7695 - val_accuracy: 0.2190\n",
            "Epoch 48/50\n",
            "387/387 [==============================] - 14s 37ms/step - loss: 2.4131 - accuracy: 0.2828 - val_loss: 2.9159 - val_accuracy: 0.2452\n",
            "Epoch 49/50\n",
            "387/387 [==============================] - 14s 36ms/step - loss: 2.3982 - accuracy: 0.2944 - val_loss: 2.8749 - val_accuracy: 0.2429\n",
            "Epoch 50/50\n",
            "387/387 [==============================] - 14s 36ms/step - loss: 2.4204 - accuracy: 0.3064 - val_loss: 2.7604 - val_accuracy: 0.2524\n",
            "Model: \"sequential\"\n",
            "_________________________________________________________________\n",
            "Layer (type)                 Output Shape              Param #   \n",
            "=================================================================\n",
            "conv2d (Conv2D)              (None, 128, 128, 32)      2432      \n",
            "_________________________________________________________________\n",
            "max_pooling2d (MaxPooling2D) (None, 26, 26, 32)        0         \n",
            "_________________________________________________________________\n",
            "conv2d_1 (Conv2D)            (None, 26, 26, 64)        51264     \n",
            "_________________________________________________________________\n",
            "max_pooling2d_1 (MaxPooling2 (None, 6, 6, 64)          0         \n",
            "_________________________________________________________________\n",
            "conv2d_2 (Conv2D)            (None, 6, 6, 128)         204928    \n",
            "_________________________________________________________________\n",
            "max_pooling2d_2 (MaxPooling2 (None, 2, 2, 128)         0         \n",
            "_________________________________________________________________\n",
            "conv2d_3 (Conv2D)            (None, 2, 2, 256)         819456    \n",
            "_________________________________________________________________\n",
            "max_pooling2d_3 (MaxPooling2 (None, 1, 1, 256)         0         \n",
            "_________________________________________________________________\n",
            "dropout (Dropout)            (None, 1, 1, 256)         0         \n",
            "_________________________________________________________________\n",
            "flatten (Flatten)            (None, 256)               0         \n",
            "_________________________________________________________________\n",
            "dense (Dense)                (None, 512)               131584    \n",
            "_________________________________________________________________\n",
            "dropout_1 (Dropout)          (None, 512)               0         \n",
            "_________________________________________________________________\n",
            "dense_1 (Dense)              (None, 24)                12312     \n",
            "=================================================================\n",
            "Total params: 1,221,976\n",
            "Trainable params: 1,221,976\n",
            "Non-trainable params: 0\n",
            "_________________________________________________________________\n"
          ],
          "name": "stdout"
        }
      ]
    },
    {
      "cell_type": "code",
      "metadata": {
        "id": "qm6diASbfnnX"
      },
      "source": [
        "def assign_label(class_index):\n",
        "  class_labels = [Rosacea,Psoriasis,Erythema,Herpes,Pustular_Psoriasis,InsectBites,Allergic_Contact_Dermatitis,Drug_Erruption,Atopic_Dermatitis,Alopecia,Acrodermatitis,Basal_Cell_Carcinoma,Ganuloma_Annulare,Lentigo_Maligna,Lichen_Planus,Acne,Bullous_disease,Irritant_contact,Candiasis,Dermatomyositis,Epidermolysis_Bullosa,Keratocanthoma,Leprosy,Lupus_Erythematosus]\n",
        "  \n",
        "  predicted_label = class_labels[class_index]\n",
        "  return predicted_label"
      ],
      "execution_count": null,
      "outputs": []
    },
    {
      "cell_type": "code",
      "metadata": {
        "id": "n-4P-VJMdPM8"
      },
      "source": [
        "# fig=plt.figure(figsize=(15,15))\n",
        "\n",
        "# for cnt,data in enumerate(X_test_images[0:50]):\n",
        "#   y=fig.add_subplot(10,5,cnt+1)\n",
        "#   img = data[0]\n",
        "#   data = img.reshape(1,128,128,3)\n",
        "#   # print(data)\n",
        "#   # break\n",
        "#   model_out=model.predict(data)\n",
        "#   class_index = np.argmax(model_out)\n",
        "#   str_label = assign_label(class_index)\n",
        "\n",
        "#   # if np.argmax(model_out)==2:\n",
        "#   #   str_label='Alopecia'\n",
        "#   # elif np.argmax(model_out)==1:\n",
        "#   #   str_label='Rosacea'   \n",
        "#   # else:\n",
        "#   #   str_label='Insect Bite' \n",
        "\n",
        "\n",
        "#   print(model_out)\n",
        "#   y.imshow(img, cmap='gray')  \n",
        "#   plt.title(str_label)\n",
        "#   y.axes.get_xaxis().set_visible(False)\n",
        "#   y.axes.get_yaxis().set_visible(False)"
      ],
      "execution_count": null,
      "outputs": []
    },
    {
      "cell_type": "code",
      "metadata": {
        "colab": {
          "base_uri": "https://localhost:8080/"
        },
        "id": "H-Sny5aVdU-e",
        "outputId": "bf1f1bc2-bd46-4f8b-8aca-589bca5ddcd7"
      },
      "source": [
        "#evaluating the model\n",
        "score = model.evaluate(X_test_images, y_test_one_hot, verbose=2) \n",
        "print('Test score:', score[0]) \n",
        "print('Test accuracy:', score[1])"
      ],
      "execution_count": null,
      "outputs": [
        {
          "output_type": "stream",
          "text": [
            "14/14 - 0s - loss: 2.7604 - accuracy: 0.2524\n",
            "Test score: 2.7603936195373535\n",
            "Test accuracy: 0.25238096714019775\n"
          ],
          "name": "stdout"
        }
      ]
    },
    {
      "cell_type": "code",
      "metadata": {
        "colab": {
          "base_uri": "https://localhost:8080/"
        },
        "id": "r4xbyYyUdYyv",
        "outputId": "a0a307d9-e480-45fc-ed4b-f864ff2b3cbe"
      },
      "source": [
        "#predicting the class\n",
        "pred = model.predict(X_test_images)\n",
        "pred = np.argmax(pred, axis = 1)[:5] \n",
        "label = np.argmax(y_test_one_hot,axis = 1)[:5] \n",
        "\n",
        "print(pred) \n",
        "print(label)\n",
        "# y_classes = y_probability.argmax(axis=-1)\n",
        "\n",
        "# print(\"True class = \", y_test[0], \"Predicted class = \", y_classes[0])"
      ],
      "execution_count": null,
      "outputs": [
        {
          "output_type": "stream",
          "text": [
            "[11  6  1 22 11]\n",
            "[0 0 0 0 0]\n"
          ],
          "name": "stdout"
        }
      ]
    },
    {
      "cell_type": "code",
      "metadata": {
        "colab": {
          "base_uri": "https://localhost:8080/"
        },
        "id": "itUEQlNPddyK",
        "outputId": "2eca42c1-d742-4855-f09d-b0189af97492"
      },
      "source": [
        "# plotting the model performance\n",
        "import matplotlib.pyplot as plt\n",
        "%matplotlib inline\n",
        "\n",
        "def plot_history(network_history):\n",
        "    plt.figure()\n",
        "    plt.xlabel('Epochs')\n",
        "    plt.ylabel('Loss')\n",
        "    plt.plot(network_history.history['loss'])\n",
        "    plt.plot(network_history.history['val_loss'])\n",
        "    plt.legend(['Training', 'Validation'])\n",
        "\n",
        "    plt.figure()\n",
        "    plt.xlabel('Epochs')\n",
        "    plt.ylabel('Accuracy')\n",
        "    plt.plot(network_history.history['accuracy'])\n",
        "    plt.plot(network_history.history['val_accuracy'])\n",
        "    plt.legend(['Training', 'Validation'], loc='lower right')\n",
        "    plt.show()\n",
        "\n",
        "plot_history(model_his)"
      ],
      "execution_count": null,
      "outputs": [
        {
          "output_type": "display_data",
          "data": {
            "image/png": "[encoded data removed]",
            "text/plain": [
              "<Figure size 432x288 with 1 Axes>"
            ]
          },
          "metadata": {
            "tags": [],
            "needs_background": "light"
          }
        },
        {
          "output_type": "display_data",
          "data": {
            "image/png": "[encoded data removed]",
            "text/plain": [
              "<Figure size 432x288 with 1 Axes>"
            ]
          },
          "metadata": {
            "tags": [],
            "needs_background": "light"
          }
        }
      ]
    }
  ]
}